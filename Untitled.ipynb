{
 "cells": [
  {
   "cell_type": "code",
   "execution_count": 14,
   "metadata": {
    "scrolled": true
   },
   "outputs": [
    {
     "name": "stdout",
     "output_type": "stream",
     "text": [
      "2002, 2009, 2016, 2023, 2037, 2044, 2051, 2058, 2072, 2079, 2086, 2093, 2107, 2114, 2121, 2128, 2142, 2149, 2156, 2163, 2177, 2184, 2191, 2198, 2212, 2219, 2226, 2233, 2247, 2254, 2261, 2268, 2282, 2289, 2296, 2303, 2317, 2324, 2331, 2338, 2352, 2359, 2366, 2373, 2387, 2394, 2401, 2408, 2422, 2429, 2436, 2443, 2457, 2464, 2471, 2478, 2492, 2499, 2506, 2513, 2527, 2534, 2541, 2548, 2562, 2569, 2576, 2583, 2597, 2604, 2611, 2618, 2632, 2639, 2646, 2653, 2667, 2674, 2681, 2688, 2702, 2709, 2716, 2723, 2737, 2744, 2751, 2758, 2772, 2779, 2786, 2793, 2807, 2814, 2821, 2828, 2842, 2849, 2856, 2863, 2877, 2884, 2891, 2898, 2912, 2919, 2926, 2933, 2947, 2954, 2961, 2968, 2982, 2989, 2996, 3003, 3017, 3024, 3031, 3038, 3052, 3059, 3066, 3073, 3087, 3094, 3101, 3108, 3122, 3129, 3136, 3143, 3157, 3164, 3171, 3178, 3192, 3199\n"
     ]
    }
   ],
   "source": [
    "ch = \"\"\n",
    "for i in range(2000,3200):\n",
    "    if ((i % 7) == 0) and ((i % 5) != 0):\n",
    "        ch = ch + \", \"+str(i)\n",
    "ch = ch[2000:]\n",
    "print(ch)"
   ]
  },
  {
   "cell_type": "code",
   "execution_count": 16,
   "metadata": {},
   "outputs": [
    {
     "name": "stdout",
     "output_type": "stream",
     "text": [
      "entrer le nombre 8\n",
      "le resultat est  40320\n"
     ]
    }
   ],
   "source": [
    "s = 1\n",
    "n = int(input(\"entrer le nombre \"))\n",
    "test = False\n",
    "while test != True :\n",
    "    if n == 1 :\n",
    "        test = True\n",
    "    s = s * n\n",
    "    n = n - 1\n",
    "print(\"le resultat est \",s)"
   ]
  },
  {
   "cell_type": "code",
   "execution_count": 39,
   "metadata": {},
   "outputs": [
    {
     "name": "stdout",
     "output_type": "stream",
     "text": [
      "entrer le nombre 5\n",
      "{1: 1, 2: 4, 3: 9, 4: 16, 5: 25}\n"
     ]
    }
   ],
   "source": [
    "book = dict()\n",
    "n = int(input(\"entrer le nombre \"))\n",
    "for i in range(1,n+1):\n",
    "    book[i] = i*i\n",
    "print(book)"
   ]
  },
  {
   "cell_type": "code",
   "execution_count": 30,
   "metadata": {},
   "outputs": [
    {
     "name": "stdout",
     "output_type": "stream",
     "text": [
      "entrer la serie de nombres 100,150,180\n",
      "18,22,24\n"
     ]
    }
   ],
   "source": [
    "from math import *\n",
    "ch = \"\"\n",
    "s = input(\"entrer la serie de nombres \")\n",
    "s = s.split(\",\")\n",
    "def equation (x):\n",
    "    return sqrt((2*50*x)/30)\n",
    "for i in m :\n",
    "    ch = ch + ',' + str(floor(equation(int(i))))\n",
    "ch = ch[1:]\n",
    "print(ch)"
   ]
  },
  {
   "cell_type": "code",
   "execution_count": 42,
   "metadata": {
    "scrolled": true
   },
   "outputs": [
    {
     "name": "stdout",
     "output_type": "stream",
     "text": [
      "entrer la chaine 123456789\n",
      "entrer l'index 8\n",
      "12345678\n"
     ]
    }
   ],
   "source": [
    "s = input(\"entrer la chaine \")\n",
    "n = int(input(\"entrer l'index \"))\n",
    "def effacer (s,n):\n",
    "    ch1 = s[0:n]\n",
    "    ch2 = s[n+1:len(s)]\n",
    "    ch = ch1+ch2\n",
    "    print(ch)\n",
    "effacer(s,n)"
   ]
  },
  {
   "cell_type": "code",
   "execution_count": 81,
   "metadata": {},
   "outputs": [
    {
     "name": "stdout",
     "output_type": "stream",
     "text": [
      "g fmnc wms bgblr rpylqjyrc gr zw fylb. rfyrq ufyr amknsrcpq ypc dmp. bmgle gr gl zw fylb gq glcddgagclr ylb rfyr'q ufw rfgq rcvr gq qm jmle. sqgle qrpgle.kyicrpylq() gq pcamkkclbcb. lmu ynnjw ml rfc spj. \n",
      "\n",
      "\n",
      "i hope you didnt translate it by hand. thats what computers are for. doing it in by hand is inefficient and that's why this text is so long. using string.maketrans() is recommended. now apply on the url. \n"
     ]
    }
   ],
   "source": [
    "s = input()\n",
    "ch = \"\"\n",
    "for i in s :\n",
    "    if i.isalpha() :\n",
    "        ch = ch + chr(((ord(i)-96+2)%26)+96)\n",
    "    elif i == \" \":\n",
    "        ch = ch + i\n",
    "    else:\n",
    "        ch = ch + i\n",
    "print(\"\\n\")\n",
    "print(ch)"
   ]
  },
  {
   "cell_type": "code",
   "execution_count": 32,
   "metadata": {},
   "outputs": [
    {
     "name": "stdout",
     "output_type": "stream",
     "text": [
      "Original array elements:  [[588  75]  [ 42  48]  [ 98  14]]\n",
      "Array to list:  [[588, 75], [42, 48], [98, 14]]\n"
     ]
    }
   ],
   "source": [
    "import numpy as np\n",
    "ar = np.array([[588,75],[42,48],[98,14]])\n",
    "ls = []\n",
    "for i in ar :\n",
    "   ls.append(list(i))\n",
    "pr = np.array2string(ar)\n",
    "pr = pr.replace(\"\\n\",\" \")\n",
    "print(\"Original array elements: \",pr)\n",
    "print(\"Array to list: \",ls)"
   ]
  },
  {
   "cell_type": "code",
   "execution_count": 37,
   "metadata": {},
   "outputs": [
    {
     "name": "stdout",
     "output_type": "stream",
     "text": [
      "[0 1 2]\n",
      "[2 1 0]\n",
      "\n",
      "[[ 1. -1.]\n",
      " [-1.  1.]]\n"
     ]
    }
   ],
   "source": [
    "import numpy as np\n",
    "\n",
    "def cov (ls1,ls2):\n",
    "    ls3 = ls1 * ls2\n",
    "    sum1 = sum(ls1)\n",
    "    sum2 = sum(ls2)\n",
    "    sum3 = sum(ls3)\n",
    "    n = len(ls1)\n",
    "    return (1/n)*sum3 -(sum1/n)*(sum2/n)\n",
    "\n",
    "x = np.array([0,1,2])\n",
    "y = np.array([2,1,0])\n",
    "print(x)\n",
    "print(y,end = '\\n\\n')\n",
    "ar = np.array([x,y])\n",
    "r = np.array([])\n",
    "r = np.ones((len(ar),len(ar)))\n",
    "for i in range(len(ar)):\n",
    "    for j in range(len(ar)):\n",
    "        r[i][j] = (cov(ar[i],ar[j]))\n",
    "r = np.round(r,0)\n",
    "print(r)"
   ]
  },
  {
   "cell_type": "code",
   "execution_count": null,
   "metadata": {},
   "outputs": [],
   "source": []
  }
 ],
 "metadata": {
  "kernelspec": {
   "display_name": "Python 3",
   "language": "python",
   "name": "python3"
  },
  "language_info": {
   "codemirror_mode": {
    "name": "ipython",
    "version": 3
   },
   "file_extension": ".py",
   "mimetype": "text/x-python",
   "name": "python",
   "nbconvert_exporter": "python",
   "pygments_lexer": "ipython3",
   "version": "3.7.4"
  }
 },
 "nbformat": 4,
 "nbformat_minor": 2
}
